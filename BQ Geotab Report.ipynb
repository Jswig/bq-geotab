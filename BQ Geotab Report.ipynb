{
 "cells": [
  {
   "cell_type": "markdown",
   "metadata": {},
   "source": [
    "# BigQuery Geotab Intersection Congestion\n",
    "*Anders Poirel*\n",
    "November 2019\n"
   ]
  },
  {
   "cell_type": "markdown",
   "metadata": {},
   "source": [
    "## Tools used\n",
    "\n",
    "Libraries I used\n",
    "- `tensorflow`: Used to build the final model. Usually would have tackeld this problem using `xgboost` but the competition specifically had a category for the best TensorFlow model, hence I used the library's `BoostedTreeRegressor`\n",
    "- `scikit-learn`:\n",
    "- `pandas`:\n",
    "- `matplotlib`:\n",
    "- `seaborn`:\n"
   ]
  },
  {
   "cell_type": "markdown",
   "metadata": {},
   "source": [
    "## Learning the necessary API components\n",
    "In the previous Kaggle competition I took a poor approach where I read up on the APIs and then attempted to build immediately the definitive fucntions, ending up with big fucntions/pipelines I had a hard time debugging. This time, I built toy examples (such as ....) to help me get a feel for how each of the functions I use, resulting in far less mistakes down the line."
   ]
  },
  {
   "cell_type": "markdown",
   "metadata": {},
   "source": [
    "## Approach\n",
    "\n",
    "Did some hand-tuning for to get an intuition for the shapes of distributions of \"good\" parameters, and then "
   ]
  },
  {
   "cell_type": "markdown",
   "metadata": {},
   "source": [
    "# Feature Engineering\n",
    "After lookign at the data, I realized that one-hot encoding the categorical columns would not be practical - there were simply far too many different categories to account for, and I would quickly run out of memory on my 16 gb machine. Instead, I decided to encode the types by stree"
   ]
  }
 ],
 "metadata": {
  "kernelspec": {
   "display_name": "Python 3",
   "language": "python",
   "name": "python3"
  },
  "language_info": {
   "codemirror_mode": {
    "name": "ipython",
    "version": 3
   },
   "file_extension": ".py",
   "mimetype": "text/x-python",
   "name": "python",
   "nbconvert_exporter": "python",
   "pygments_lexer": "ipython3",
   "version": "3.7.4"
  }
 },
 "nbformat": 4,
 "nbformat_minor": 2
}
